{
 "cells": [
  {
   "cell_type": "code",
   "execution_count": 1,
   "id": "c042abd5",
   "metadata": {
    "ExecuteTime": {
     "end_time": "2023-10-20T10:06:59.841048Z",
     "start_time": "2023-10-20T10:06:59.724196Z"
    }
   },
   "outputs": [],
   "source": [
    "# import libraries\n",
    "import pandas as pd\n",
    "import numpy as np\n",
    "import sklearn\n",
    "import matplotlib.pyplot as plt\n",
    "import seaborn as sns\n",
    "import re\n",
    "import germansentiment"
   ]
  },
  {
   "cell_type": "code",
   "execution_count": 5,
   "id": "49248913",
   "metadata": {
    "ExecuteTime": {
     "end_time": "2023-10-20T12:02:42.508622Z",
     "start_time": "2023-10-20T12:02:42.503357Z"
    }
   },
   "outputs": [],
   "source": [
    "# define stopwords\n",
    "stop_words = open('stopwords.txt','r').read().split('\\n')"
   ]
  },
  {
   "cell_type": "code",
   "execution_count": 6,
   "id": "ea1e7714",
   "metadata": {},
   "outputs": [],
   "source": [
    "import csv\n",
    "\n",
    "# import scraped data\n",
    "d1 = pd.read_csv(\"Product_Hunt.csv\")\n",
    "d1 = d1['Review text']\n",
    "\n",
    "d2 = pd.read_csv(\"Trustpilot.csv\")\n",
    "d2 = d2['Review text']\n",
    "\n",
    "d = [d1, d2]\n",
    "d = pd.concat(d)"
   ]
  },
  {
   "cell_type": "code",
   "execution_count": 7,
   "id": "825819ab",
   "metadata": {
    "ExecuteTime": {
     "end_time": "2023-10-20T12:02:45.004702Z",
     "start_time": "2023-10-20T12:02:45.001759Z"
    }
   },
   "outputs": [],
   "source": [
    "import gensim\n",
    "from gensim.utils import simple_preprocess\n",
    "\n",
    "# topic modeling\n",
    "def sent_to_words(sentences):\n",
    "    for sentence in sentences:\n",
    "        # deacc=True removes punctuations\n",
    "        yield(gensim.utils.simple_preprocess(str(sentence), deacc=True))\n",
    "def remove_stopwords(texts):\n",
    "    return [[word for word in simple_preprocess(str(doc)) \n",
    "             if word not in stop_words] for doc in texts]\n",
    "\n",
    "data = d.values.tolist()\n",
    "data_words = list(sent_to_words(data))\n",
    "\n",
    "# remove stop words\n",
    "data_words = remove_stopwords(data_words)"
   ]
  },
  {
   "cell_type": "code",
   "execution_count": 8,
   "id": "a5cd06b7",
   "metadata": {
    "ExecuteTime": {
     "end_time": "2023-10-20T12:02:46.109214Z",
     "start_time": "2023-10-20T12:02:46.105630Z"
    }
   },
   "outputs": [],
   "source": [
    "import gensim.corpora as corpora\n",
    "\n",
    "# create dictionary\n",
    "id2word = corpora.Dictionary(data_words)\n",
    "\n",
    "# create corpus\n",
    "texts = data_words\n",
    "\n",
    "# term document frequency\n",
    "corpus = [id2word.doc2bow(text) for text in texts]"
   ]
  },
  {
   "cell_type": "code",
   "execution_count": 9,
   "id": "810c8c26",
   "metadata": {
    "ExecuteTime": {
     "end_time": "2023-10-20T12:02:47.747086Z",
     "start_time": "2023-10-20T12:02:46.547027Z"
    }
   },
   "outputs": [
    {
     "name": "stdout",
     "output_type": "stream",
     "text": [
      "[(0,\n",
      "  '0.010*\"great\" + 0.006*\"best\" + 0.006*\"ideas\" + 0.006*\"better\" + '\n",
      "  '0.005*\"experience\" + 0.005*\"good\" + 0.005*\"awesome\" + 0.004*\"money\" + '\n",
      "  '0.004*\"got\" + 0.004*\"service\"'),\n",
      " (1,\n",
      "  '0.019*\"great\" + 0.007*\"work\" + 0.005*\"support\" + 0.005*\"help\" + '\n",
      "  '0.005*\"access\" + 0.005*\"helpful\" + 0.004*\"useful\" + 0.004*\"new\" + '\n",
      "  '0.004*\"open\" + 0.004*\"subscription\"'),\n",
      " (2,\n",
      "  '0.006*\"like\" + 0.005*\"free\" + 0.004*\"new\" + 0.004*\"support\" + '\n",
      "  '0.004*\"everything\" + 0.004*\"world\" + 0.003*\"work\" + 0.003*\"best\" + '\n",
      "  '0.003*\"helpful\" + 0.003*\"could\"'),\n",
      " (3,\n",
      "  '0.025*\"good\" + 0.013*\"amazing\" + 0.008*\"like\" + 0.006*\"service\" + '\n",
      "  '0.006*\"nice\" + 0.005*\"love\" + 0.005*\"future\" + 0.004*\"work\" + 0.003*\"cool\" '\n",
      "  '+ 0.003*\"help\"'),\n",
      " (4,\n",
      "  '0.009*\"like\" + 0.005*\"support\" + 0.005*\"open\" + 0.005*\"help\" + '\n",
      "  '0.004*\"useful\" + 0.004*\"know\" + 0.004*\"amazing\" + 0.004*\"development\" + '\n",
      "  '0.004*\"research\" + 0.003*\"dall\"')]\n"
     ]
    }
   ],
   "source": [
    "from pprint import pprint\n",
    "\n",
    "# define number of topics\n",
    "num_topics = 5\n",
    "\n",
    "# build LDA model\n",
    "lda_model = gensim.models.LdaMulticore(corpus=corpus,\n",
    "                                       id2word=id2word,\n",
    "                                       num_topics=num_topics)\n",
    "\n",
    "# print the keyword in the 10 topics\n",
    "pprint(lda_model.print_topics())\n",
    "doc_lda = lda_model[corpus]"
   ]
  },
  {
   "cell_type": "code",
   "execution_count": 10,
   "id": "7abd8ab5",
   "metadata": {
    "ExecuteTime": {
     "end_time": "2023-10-20T12:02:51.302592Z",
     "start_time": "2023-10-20T12:02:49.955446Z"
    }
   },
   "outputs": [
    {
     "data": {
      "text/plain": [
       "\"# Visualize the topics\\npyLDAvis.enable_notebook()\\nLDAvis_data_filepath = os.path.join('./results/ldavis_prepared_'+str(num_topics))\\n# # this is a bit time consuming - make the if statement True\\n# # if you want to execute visualization prep yourself\\nif 1 == 1:\\n    LDAvis_prepared = pyLDAvis.gensim.prepare(lda_model, corpus, id2word)\\n    with open(LDAvis_data_filepath, 'wb') as f:\\n        pickle.dump(LDAvis_prepared, f)\\n# load the pre-prepared pyLDAvis data from disk\\nwith open(LDAvis_data_filepath, 'rb') as f:\\n    LDAvis_prepared = pickle.load(f)\\npyLDAvis.save_html(LDAvis_prepared, './results/ldavis_prepared_'+ str(num_topics) +'.html')\\nLDAvis_prepared\\n\""
      ]
     },
     "execution_count": 10,
     "metadata": {},
     "output_type": "execute_result"
    }
   ],
   "source": [
    "import pyLDAvis.gensim\n",
    "import pickle \n",
    "import pyLDAvis\n",
    "import os\n",
    "\n",
    "# output graphic representation\n",
    "LDAvis_prepared = pyLDAvis.gensim.prepare(lda_model, corpus, id2word)\n",
    "pyLDAvis.save_html(LDAvis_prepared, \"LDA_Reviews_EN_\"+str(num_topics) +'.html')\n",
    "LDAvis_prepared"
   ]
  },
  {
   "cell_type": "code",
   "execution_count": null,
   "id": "891ba86a",
   "metadata": {},
   "outputs": [],
   "source": []
  }
 ],
 "metadata": {
  "kernelspec": {
   "display_name": "Python 3 (ipykernel)",
   "language": "python",
   "name": "python3"
  },
  "language_info": {
   "codemirror_mode": {
    "name": "ipython",
    "version": 3
   },
   "file_extension": ".py",
   "mimetype": "text/x-python",
   "name": "python",
   "nbconvert_exporter": "python",
   "pygments_lexer": "ipython3",
   "version": "3.9.13"
  }
 },
 "nbformat": 4,
 "nbformat_minor": 5
}
